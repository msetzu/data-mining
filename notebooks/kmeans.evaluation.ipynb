{
 "cells": [
  {
   "cell_type": "code",
   "execution_count": 1,
   "metadata": {
    "collapsed": true
   },
   "outputs": [],
   "source": [
    "import pickle\n",
    "import pandas as pd\n",
    "from clustering import *\n",
    "from settings import *\n",
    "from objects import *"
   ]
  },
  {
   "cell_type": "code",
   "execution_count": 2,
   "metadata": {
    "collapsed": true
   },
   "outputs": [],
   "source": [
    "with open(\"pickles/clustering.normal.pickle\", \"rb\") as log:\n",
    "    kmeans_normal = pickle.load(log)\n",
    "\n",
    "with open(\"pickles/clustering.discrete.pickle\", \"rb\") as log:\n",
    "    kmeans_discrete = pickle.load(log)\n",
    "\n",
    "hr = HR(data)\n",
    "df = hr.normal\n",
    "\n",
    "pp.cla()\n",
    "pp.clf()"
   ]
  },
  {
   "cell_type": "code",
   "execution_count": 13,
   "metadata": {
    "collapsed": true
   },
   "outputs": [],
   "source": [
    "kmeans = kmeans_normal\n",
    "\n",
    "colors_keys = [\"blue\", \"green\", \"red\", \"black\"]\n",
    "colors = [large_palette_full[key] for key in colors_keys]\n",
    "\n",
    "entry_normal = kmeans_normal[\"AVG Monthly hours - Projects\"]\n",
    "entry_discrete = kmeans_discrete[\"AVG Monthly hours - Projects\"]\n",
    "df = hr.normal.assign(cluster=entry_normal[4][0][\"cluster\"])\n",
    "phi = pd.crosstab(df[\"left\"], df[\"cluster\"])\n",
    "phi = phi.div(phi.sum(1).astype(float), axis=0)\n",
    "phi.plot(kind=\"bar\", stacked=True, color=colors)\n",
    "pp.savefig(\"AVG Monthly Hours - Number project [Heterogeneity Left].svg\")"
   ]
  },
  {
   "cell_type": "code",
   "execution_count": 14,
   "metadata": {
    "collapsed": true
   },
   "outputs": [],
   "source": [
    "colors_keys = [\"blue\", \"green\", \"red\", \"yellow\", \"black\"]\n",
    "colors = [large_palette_full[key] for key in colors_keys]\n",
    "\n",
    "entry_normal = kmeans_normal[\"AVG Monthly hours - Time in company, in years\"]\n",
    "entry_discrete = kmeans_discrete[\"AVG Monthly hours - Time in company, in years\"]\n",
    "df = hr.normal.assign(cluster=entry_normal[5][0][\"cluster\"])\n",
    "phi = pd.crosstab(df[\"left\"], df[\"cluster\"])\n",
    "phi = phi.div(phi.sum(1).astype(float), axis=0)\n",
    "phi.plot(kind=\"bar\", stacked=True, color=colors)\n",
    "pp.savefig(\"AVG Monthly Hours - Time in company [Heterogeneity Left].svg\")"
   ]
  },
  {
   "cell_type": "code",
   "execution_count": 15,
   "metadata": {
    "collapsed": true
   },
   "outputs": [],
   "source": [
    "colors_keys = [\"blue\", \"green\", \"red\", \"yellow\", \"purple\", \"orange\", \"black\"]\n",
    "colors = [large_palette_full[key] for key in colors_keys]\n",
    "\n",
    "entry_normal = kmeans_normal[\"Projects - Salary\"]\n",
    "entry_discrete = kmeans_discrete[\"Projects - Salary\"]\n",
    "df = hr.normal.assign(cluster=entry_normal[7][0][\"cluster\"])\n",
    "phi = pd.crosstab(df[\"left\"], df[\"cluster\"])\n",
    "phi = phi.div(phi.sum(1).astype(float), axis=0)\n",
    "phi.plot(kind=\"bar\", stacked=True, color=colors)\n",
    "pp.savefig(\"Project - Salary [Heterogeneity Left].svg\")"
   ]
  },
  {
   "cell_type": "code",
   "execution_count": 37,
   "metadata": {
    "collapsed": true
   },
   "outputs": [],
   "source": [
    "combination = \"AVG Monthly hours - Projects\"\n",
    "k = 4\n",
    "\n",
    "df = kmeans[combination][k][0]\n",
    "title = combination + \"-clustering\"\n",
    "columns = list(df.columns)\n",
    "columns.remove(\"cluster\")\n",
    "colors_keys = [\"blue\", \"green\", \"red\", \"black\"]\n",
    "colors = [large_palette_full[key] for key in colors_keys]\n",
    "\n",
    "figure, axes = pp.subplots()\n",
    "for cluster_idx, color in zip(range(k), colors):\n",
    "    points = df[df[\"cluster\"] == cluster_idx][columns]\n",
    "    axes.scatter(points[columns[0]], points[columns[1]], color=color)\n",
    "\n",
    "axes.set_xlabel(labels_pretty_print[columns[0]])\n",
    "axes.set_ylabel(labels_pretty_print[columns[1]])\n",
    "pp.savefig(title + \".svg\")"
   ]
  },
  {
   "cell_type": "code",
   "execution_count": 3,
   "metadata": {
    "collapsed": true
   },
   "outputs": [],
   "source": [
    "kmeans = kmeans_normal\n",
    "combination = \"AVG Monthly hours - Time in company, in years\"\n",
    "k = 5\n",
    "\n",
    "df = kmeans[combination][k][0]\n",
    "title = combination + \"-clustering\"\n",
    "columns = list(df.columns)\n",
    "columns.remove(\"cluster\")\n",
    "colors_keys = [\"blue\", \"green\", \"red\", \"yellow\", \"black\"]\n",
    "colors = [large_palette_full[key] for key in colors_keys]\n",
    "\n",
    "figure, axes = pp.subplots()\n",
    "for cluster_idx, color in zip(range(k), colors):\n",
    "    points = df[df[\"cluster\"] == cluster_idx][columns]\n",
    "    axes.scatter(points[columns[0]], points[columns[1]], color=color)\n",
    "\n",
    "axes.set_xlabel(labels_pretty_print[columns[0]])\n",
    "axes.set_ylabel(labels_pretty_print[columns[1]])\n",
    "pp.savefig(title + \".svg\")"
   ]
  },
  {
   "cell_type": "code",
   "execution_count": 41,
   "metadata": {
    "collapsed": true
   },
   "outputs": [],
   "source": [
    "combination = \"Projects - Salary\"\n",
    "k = 7\n",
    "\n",
    "df = kmeans[combination][k][0]\n",
    "title = combination + \"-clustering\"\n",
    "columns = list(df.columns)\n",
    "columns.remove(\"cluster\")\n",
    "colors_keys = [\"blue\", \"green\", \"red\", \"yellow\", \"purple\", \"orange\", \"black\"]\n",
    "colors = [large_palette_full[key] for key in colors_keys]\n",
    "\n",
    "figure, axes = pp.subplots()\n",
    "for cluster_idx, color in zip(range(k), colors):\n",
    "    points = df[df[\"cluster\"] == cluster_idx][columns]\n",
    "    axes.scatter(points[columns[0]], points[columns[1]], color=color)\n",
    "\n",
    "axes.set_xlabel(labels_pretty_print[columns[0]])\n",
    "axes.set_ylabel(labels_pretty_print[columns[1]])\n",
    "pp.savefig(title + \".svg\")"
   ]
  },
  {
   "cell_type": "code",
   "execution_count": null,
   "metadata": {
    "collapsed": true
   },
   "outputs": [],
   "source": [
    "import pickle\n",
    "from settings import *\n",
    "from objects import *\n",
    "import numpy as np\n",
    "import matplotlib.pyplot as pp\n",
    "import itertools\n",
    "from clustering import kmeans_clustering\n",
    "\n",
    "hr = HR(data)\n",
    "\n",
    "with open(\"pickles/clustering.normal.pickle\", \"rb\") as log:\n",
    "    kmeans = pickle.load(log)\n",
    "\n",
    "x = kmeans_clustering[\"ks\"]\n",
    "\n",
    "## Hours - Projects\n",
    "k = 4\n",
    "entry = kmeans[\"AVG Monthly hours - Projects\"]\n",
    "df = hr.normal.assign(cluster=entry[k][0][\"cluster\"])\n",
    "cohesions = entry[k][1]\n",
    "\n",
    "np_array = np.array([list(entry[\"cohesions\"][\"euclidean\"].values())])\n",
    "pp.imshow(np_array, cmap=cmap_pale_pink, interpolation=\"nearest\")\n",
    "pp.xlabel(\"cohesion on k, the darker the higher\")\n",
    "pp.xticks(np.arange(19), kmeans_clustering[\"ks\"])\n",
    "pp.yticks([])\n",
    "pp.tight_layout()\n",
    "pp.savefig(\"hrs-prjs-\" + str(k) + \"-cohesion.svg\")\n",
    "\n",
    "np_array = np.array([list(entry[\"silhouettes\"][\"euclidean\"])])\n",
    "pp.imshow(np_array, cmap=cmap_pale_pink, interpolation=\"nearest\")\n",
    "pp.xlabel(\"silhouette on k, the darker the higher\")\n",
    "pp.xticks(np.arange(19), kmeans_clustering[\"ks\"])\n",
    "pp.yticks([])\n",
    "pp.tight_layout()\n",
    "pp.savefig(\"hrs-prjs-\" + str(k) + \"-silhouette.svg\")\n",
    "\n",
    "\n",
    "## Hours - Time in company\n",
    "k = 4\n",
    "entry = kmeans[\"AVG Monthly hours - Time in company, in years\"]\n",
    "df = hr.normal.assign(cluster=entry[k][0][\"cluster\"])\n",
    "cohesions = entry[k][1]\n",
    "\n",
    "np_array = np.array([list(entry[\"cohesions\"][\"euclidean\"].values())])\n",
    "pp.imshow(np_array, cmap=cmap_pale_pink, interpolation=\"nearest\")\n",
    "pp.xlabel(\"cohesion on k, the darker the higher\")\n",
    "pp.xticks(np.arange(19), kmeans_clustering[\"ks\"])\n",
    "pp.yticks([])\n",
    "pp.tight_layout()\n",
    "pp.savefig(\"hrs-time-\" + str(k) + \"-cohesion.svg\")\n",
    "\n",
    "np_array = np.array([list(entry[\"silhouettes\"][\"euclidean\"])])\n",
    "pp.imshow(np_array, cmap=cmap_pale_pink, interpolation=\"nearest\")\n",
    "pp.xlabel(\"silhouette on k, the darker the higher\")\n",
    "pp.xticks(np.arange(19), kmeans_clustering[\"ks\"])\n",
    "pp.yticks([])\n",
    "pp.tight_layout()\n",
    "pp.savefig(\"hrs-time-\" + str(k) + \"-silhouette.svg\")\n",
    "\n",
    "\n",
    "## Projects - Salary\n",
    "k = 7\n",
    "entry = kmeans[\"Projects - Salary\"]\n",
    "df = hr.normal.assign(cluster=entry[k][0][\"cluster\"])\n",
    "cohesions = entry[k][1]\n",
    "\n",
    "np_array = np.array([list(entry[\"cohesions\"][\"euclidean\"].values())])\n",
    "pp.imshow(np_array, cmap=cmap_pale_pink, interpolation=\"nearest\")\n",
    "pp.xlabel(\"cohesion on k, the darker the higher\")\n",
    "pp.xticks(np.arange(19), kmeans_clustering[\"ks\"])\n",
    "pp.yticks([])\n",
    "pp.tight_layout()\n",
    "pp.savefig(\"prjs-sal\" + str(k) + \"-cohesion.svg\")\n",
    "\n",
    "np_array = np.array([list(entry[\"silhouettes\"][\"euclidean\"])])\n",
    "pp.imshow(np_array, cmap=cmap_pale_pink, interpolation=\"nearest\")\n",
    "pp.xlabel(\"silhouette on k, the darker the higher\")\n",
    "pp.xticks(np.arange(19), kmeans_clustering[\"ks\"])\n",
    "pp.yticks([])\n",
    "pp.tight_layout()\n",
    "pp.savefig(\"prjs-sal-\" + str(k) + \"-silhouette.svg\")"
   ]
  }
 ],
 "metadata": {
  "kernelspec": {
   "display_name": "Python 3",
   "language": "python",
   "name": "python3"
  },
  "language_info": {
   "codemirror_mode": {
    "name": "ipython",
    "version": 3
   },
   "file_extension": ".py",
   "mimetype": "text/x-python",
   "name": "python",
   "nbconvert_exporter": "python",
   "pygments_lexer": "ipython3",
   "version": "3.6.2"
  }
 },
 "nbformat": 4,
 "nbformat_minor": 2
}
